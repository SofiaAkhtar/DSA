{
  "nbformat": 4,
  "nbformat_minor": 0,
  "metadata": {
    "colab": {
      "provenance": [],
      "authorship_tag": "ABX9TyPBzf7a6jQ8O3xSjSABhhJx",
      "include_colab_link": true
    },
    "kernelspec": {
      "name": "python3",
      "display_name": "Python 3"
    },
    "language_info": {
      "name": "python"
    }
  },
  "cells": [
    {
      "cell_type": "markdown",
      "metadata": {
        "id": "view-in-github",
        "colab_type": "text"
      },
      "source": [
        "<a href=\"https://colab.research.google.com/github/SofiaAkhtar/DSA/blob/main/Search.ipynb\" target=\"_parent\"><img src=\"https://colab.research.google.com/assets/colab-badge.svg\" alt=\"Open In Colab\"/></a>"
      ]
    },
    {
      "cell_type": "markdown",
      "source": [
        "Linear Search"
      ],
      "metadata": {
        "id": "UkZGxAP0f8f-"
      }
    },
    {
      "cell_type": "code",
      "source": [
        "def linear_search(a,search_element):\n",
        "    for i in range(len(a)):\n",
        "        if a[i] == search_element:\n",
        "            return i+1\n",
        "    return 'Not Found'"
      ],
      "metadata": {
        "id": "bYxIfDHjf8xO"
      },
      "execution_count": null,
      "outputs": []
    },
    {
      "cell_type": "code",
      "execution_count": null,
      "metadata": {
        "colab": {
          "base_uri": "https://localhost:8080/"
        },
        "id": "6QbgGvGaf2vi",
        "outputId": "555cf6aa-6b7c-490a-ad87-3e570b73a4e5"
      },
      "outputs": [
        {
          "output_type": "execute_result",
          "data": {
            "text/plain": [
              "3"
            ]
          },
          "metadata": {},
          "execution_count": 6
        }
      ],
      "source": [
        "linear_search([1,2,36,89,3,5,6],36)"
      ]
    },
    {
      "cell_type": "code",
      "source": [
        "def binary_search(arr, search_element):\n",
        "    arr.sort()\n",
        "    low = 0\n",
        "    high = len(arr)-1\n",
        "    while low<= high:\n",
        "        mid = (high + low) // 2\n",
        "        if arr[mid] == search_element:\n",
        "            return mid  # Return the index if found\n",
        "        elif arr[mid] > search_element:\n",
        "            high = mid - 1\n",
        "        else:\n",
        "            low = mid + 1\n",
        "    return 'Not Found'  # Return 'Not Found' if the element is not in the array\n"
      ],
      "metadata": {
        "id": "OVCS5lSGhYW2"
      },
      "execution_count": null,
      "outputs": []
    },
    {
      "cell_type": "code",
      "source": [
        "binary_search([1,2,3,56,78,12,34,89],2)"
      ],
      "metadata": {
        "colab": {
          "base_uri": "https://localhost:8080/"
        },
        "id": "0ap1rFKwjiuk",
        "outputId": "a5808ab0-ccae-4ce9-9343-83e525067e73"
      },
      "execution_count": null,
      "outputs": [
        {
          "output_type": "execute_result",
          "data": {
            "text/plain": [
              "1"
            ]
          },
          "metadata": {},
          "execution_count": 16
        }
      ]
    },
    {
      "cell_type": "code",
      "source": [
        "def binary_search(arr, search_element):\n",
        "    low = 0\n",
        "    high = len(arr) - 1\n",
        "\n",
        "    while low <= high:\n",
        "        mid = (low + high) // 2\n",
        "        if arr[mid] == search_element:\n",
        "            return mid\n",
        "        elif arr[mid] < search_element:\n",
        "            low = mid + 1\n",
        "        else:\n",
        "            high = mid - 1\n",
        "\n",
        "    return 'Not Found'\n"
      ],
      "metadata": {
        "id": "D3wtK5yYkQFK"
      },
      "execution_count": null,
      "outputs": []
    }
  ]
}